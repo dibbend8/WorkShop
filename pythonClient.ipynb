{
 "cells": [
  {
   "cell_type": "markdown",
   "metadata": {},
   "source": [
    "# Combined TCP and UDP Client\n",
    "\n",
    "This notebook demonstrates how to create both a TCP client and a UDP client. Each client will connect to their respective servers and send a message."
   ]
  },
  {
   "cell_type": "markdown",
   "metadata": {},
   "source": [
    "## TCP Client\n",
    "\n",
    "The TCP client connects to the TCP server, sends a message, and prints the echoed message it receives."
   ]
  },
  {
   "cell_type": "code",
   "execution_count": 6,
   "metadata": {},
   "outputs": [
    {
     "name": "stdout",
     "output_type": "stream",
     "text": [
      "Received from TCP server: Hello, TCP Server!\n"
     ]
    }
   ],
   "source": [
    "import socket\n",
    "import time\n",
    "\n",
    "def start_tcp_client():\n",
    "    time.sleep(1)  # Ensure the server starts first\n",
    "    client_socket = socket.socket(socket.AF_INET, socket.SOCK_STREAM)\n",
    "    client_socket.connect(('localhost', 65432))\n",
    "    message = \"Hello, TCP Server!\"\n",
    "    client_socket.sendall(message.encode())\n",
    "    data = client_socket.recv(1024)\n",
    "    print(\"Received from TCP server:\", data.decode())\n",
    "    client_socket.close()\n",
    "\n",
    "if __name__ == \"__main__\":\n",
    "    start_tcp_client()"
   ]
  },
  {
   "cell_type": "markdown",
   "metadata": {},
   "source": [
    "## UDP Client\n",
    "\n",
    "The UDP client sends a message to the UDP server and prints the echoed message it receives."
   ]
  },
  {
   "cell_type": "code",
   "execution_count": 7,
   "metadata": {},
   "outputs": [
    {
     "name": "stdout",
     "output_type": "stream",
     "text": [
      "Received from UDP server: Hello, UDP Server!\n"
     ]
    }
   ],
   "source": [
    "import socket\n",
    "import time\n",
    "\n",
    "def start_udp_client():\n",
    "    time.sleep(1)  # Ensure the server starts first\n",
    "    client_socket = socket.socket(socket.AF_INET, socket.SOCK_DGRAM)\n",
    "    server_address = ('localhost', 65433)\n",
    "    message = \"Hello, UDP Server!\"\n",
    "    client_socket.sendto(message.encode(), server_address)\n",
    "    data, _ = client_socket.recvfrom(1024)\n",
    "    print(\"Received from UDP server:\", data.decode())\n",
    "    client_socket.close()\n",
    "\n",
    "if __name__ == \"__main__\":\n",
    "    start_udp_client()"
   ]
  }
 ],
 "metadata": {
  "kernelspec": {
   "display_name": "Python 3",
   "language": "python",
   "name": "python3"
  },
  "language_info": {
   "codemirror_mode": {
    "name": "ipython",
    "version": 3
   },
   "file_extension": ".py",
   "mimetype": "text/x-python",
   "name": "python",
   "nbconvert_exporter": "python",
   "pygments_lexer": "ipython3",
   "version": "3.11.9"
  }
 },
 "nbformat": 4,
 "nbformat_minor": 5
}
