{
 "cells": [
  {
   "cell_type": "markdown",
   "metadata": {},
   "source": [
    "# Install Flask to run APP server"
   ]
  },
  {
   "cell_type": "code",
   "execution_count": 4,
   "metadata": {},
   "outputs": [
    {
     "name": "stdout",
     "output_type": "stream",
     "text": [
      "Requirement already satisfied: flask in /opt/anaconda3/lib/python3.11/site-packages (2.2.5)\n",
      "Requirement already satisfied: Werkzeug>=2.2.2 in /opt/anaconda3/lib/python3.11/site-packages (from flask) (2.2.3)\n",
      "Requirement already satisfied: Jinja2>=3.0 in /opt/anaconda3/lib/python3.11/site-packages (from flask) (3.1.3)\n",
      "Requirement already satisfied: itsdangerous>=2.0 in /opt/anaconda3/lib/python3.11/site-packages (from flask) (2.0.1)\n",
      "Requirement already satisfied: click>=8.0 in /opt/anaconda3/lib/python3.11/site-packages (from flask) (8.1.7)\n",
      "Requirement already satisfied: MarkupSafe>=2.0 in /opt/anaconda3/lib/python3.11/site-packages (from Jinja2>=3.0->flask) (2.1.3)\n"
     ]
    }
   ],
   "source": [
    "!pip install flask"
   ]
  },
  {
   "cell_type": "markdown",
   "metadata": {},
   "source": [
    "Run the app.py in a separate terminal/window. In the code below, we will modify the content using CRUD operations of the REST API\n",
    "Go to the URL http://127.0.0.1:5000/posts in your browser to see the updates as and when the modifications are done. Also, you can start wireshark to see the protocol level message exchanges to get a real feel of things"
   ]
  },
  {
   "cell_type": "markdown",
   "metadata": {},
   "source": [
    "# CREATE/POST method"
   ]
  },
  {
   "cell_type": "code",
   "execution_count": 15,
   "metadata": {},
   "outputs": [
    {
     "name": "stdout",
     "output_type": "stream",
     "text": [
      "CREATE response: {'body': 'This is a new post', 'id': 3, 'title': 'New Post', 'userId': 3}\n"
     ]
    }
   ],
   "source": [
    "import requests\n",
    "\n",
    "BASE_URL = 'http://127.0.0.1:5000/posts'\n",
    "\n",
    "# CREATE a new post\n",
    "new_post = {\n",
    "    \"title\": \"New Post\",\n",
    "    \"body\": \"This is a new post\",\n",
    "    \"userId\": 3\n",
    "}\n",
    "response = requests.post(BASE_URL, json=new_post)\n",
    "print(\"CREATE response:\", response.json())\n"
   ]
  },
  {
   "cell_type": "markdown",
   "metadata": {},
   "source": [
    "# GET"
   ]
  },
  {
   "cell_type": "code",
   "execution_count": 16,
   "metadata": {},
   "outputs": [
    {
     "name": "stdout",
     "output_type": "stream",
     "text": [
      "GET all posts response: {'1': {'body': 'This is the first post', 'title': 'First Post', 'userId': 1}, '2': {'body': 'This is the second post', 'title': 'Second Post', 'userId': 2}, '3': {'body': 'This is a new post', 'title': 'New Post', 'userId': 3}}\n",
      "GET post 1 response: {'body': 'This is the first post', 'title': 'First Post', 'userId': 1}\n"
     ]
    }
   ],
   "source": [
    "\n",
    "# GET all posts\n",
    "response = requests.get(BASE_URL)\n",
    "print(\"GET all posts response:\", response.json())\n",
    "\n",
    "# GET a single post\n",
    "post_id = 1\n",
    "response = requests.get(f'{BASE_URL}/{post_id}')\n",
    "print(f\"GET post {post_id} response:\", response.json())\n"
   ]
  },
  {
   "cell_type": "markdown",
   "metadata": {},
   "source": [
    "# UPDATE/PUT"
   ]
  },
  {
   "cell_type": "code",
   "execution_count": 17,
   "metadata": {},
   "outputs": [
    {
     "name": "stdout",
     "output_type": "stream",
     "text": [
      "UPDATE post 1 response: {'body': 'This post has been updated', 'title': 'Updated Post', 'userId': 1}\n"
     ]
    }
   ],
   "source": [
    "\n",
    "# UPDATE a post\n",
    "update_post = {\n",
    "    \"title\": \"Updated Post\",\n",
    "    \"body\": \"This post has been updated\",\n",
    "    \"userId\": 1\n",
    "}\n",
    "response = requests.put(f'{BASE_URL}/{post_id}', json=update_post)\n",
    "print(f\"UPDATE post {post_id} response:\", response.json())\n"
   ]
  },
  {
   "cell_type": "markdown",
   "metadata": {},
   "source": [
    "# DELETE"
   ]
  },
  {
   "cell_type": "code",
   "execution_count": 18,
   "metadata": {},
   "outputs": [
    {
     "name": "stdout",
     "output_type": "stream",
     "text": [
      "DELETE post 1 response: {'message': 'Post deleted'}\n",
      "GET all posts after DELETE response: {'2': {'body': 'This is the second post', 'title': 'Second Post', 'userId': 2}, '3': {'body': 'This is a new post', 'title': 'New Post', 'userId': 3}}\n"
     ]
    }
   ],
   "source": [
    "\n",
    "# DELETE a post\n",
    "response = requests.delete(f'{BASE_URL}/{post_id}')\n",
    "print(f\"DELETE post {post_id} response:\", response.json())\n",
    "\n",
    "# GET all posts after DELETE\n",
    "response = requests.get(BASE_URL)\n",
    "print(\"GET all posts after DELETE response:\", response.json())\n"
   ]
  }
 ],
 "metadata": {
  "kernelspec": {
   "display_name": "base",
   "language": "python",
   "name": "python3"
  },
  "language_info": {
   "codemirror_mode": {
    "name": "ipython",
    "version": 3
   },
   "file_extension": ".py",
   "mimetype": "text/x-python",
   "name": "python",
   "nbconvert_exporter": "python",
   "pygments_lexer": "ipython3",
   "version": "3.11.9"
  }
 },
 "nbformat": 4,
 "nbformat_minor": 2
}
