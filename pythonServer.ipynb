{
 "cells": [
  {
   "cell_type": "markdown",
   "metadata": {},
   "source": [
    "# Network Server Example\n",
    "\n",
    "This notebook contains implementations of both TCP and UDP servers. Each server listens for incoming connections/messages and echoes any received data back to the sender."
   ]
  },
  {
   "cell_type": "markdown",
   "metadata": {},
   "source": [
    "## TCP Server\n",
    "\n",
    "This TCP server listens on port 65432 and handles each client connection in a separate thread. The server echoes any received messages back to the client."
   ]
  },
  {
   "cell_type": "code",
   "execution_count": 1,
   "metadata": {},
   "outputs": [
    {
     "name": "stdout",
     "output_type": "stream",
     "text": [
      "TCP Server is listening on port 65439...\n",
      "Shutting down the server...\n"
     ]
    }
   ],
   "source": [
    "import socket\n",
    "import threading\n",
    "import signal\n",
    "running = True\n",
    "def handle_tcp_client(conn, addr):\n",
    "    print('TCP Connected by', addr)\n",
    "    with conn:\n",
    "        while running:\n",
    "            data = conn.recv(1024)\n",
    "            if not data:\n",
    "                break\n",
    "            print(\"Received from TCP client:\", data.decode())\n",
    "            conn.sendall(data)\n",
    "    conn.close()\n",
    "    print(\"TCP server shut down\")    \n",
    "def start_tcp_server():\n",
    "    server_socket = socket.socket(socket.AF_INET, socket.SOCK_STREAM)\n",
    "    server_socket.bind(('localhost', 65432))\n",
    "    server_socket.listen()\n",
    "    print(\"TCP Server is listening on port 65432...\")\n",
    "    while True:\n",
    "        conn, addr = server_socket.accept()\n",
    "        handle_tcp_client(conn,addr)\n",
    "        # client_thread = threading.Thread(target=handle_tcp_client, args=(conn, addr))\n",
    "        # client_thread.start()\n",
    "\n",
    "def signal_handler(sig, frame):\n",
    "    global running\n",
    "    print('Shutting down the server...')\n",
    "    running = False\n",
    "\n",
    "\n",
    "if __name__ == \"__main__\":\n",
    "    signal.signal(signal.SIGINT, signal_handler)\n",
    "    start_tcp_server()"
   ]
  },
  {
   "cell_type": "markdown",
   "metadata": {},
   "source": [
    "## UDP Server\n",
    "\n",
    "This UDP server listens on port 65433 and echoes any received messages back to the sender."
   ]
  },
  {
   "cell_type": "code",
   "execution_count": 3,
   "metadata": {},
   "outputs": [
    {
     "ename": "OSError",
     "evalue": "[Errno 48] Address already in use",
     "output_type": "error",
     "traceback": [
      "\u001b[0;31m---------------------------------------------------------------------------\u001b[0m",
      "\u001b[0;31mOSError\u001b[0m                                   Traceback (most recent call last)",
      "Cell \u001b[0;32mIn[3], line 19\u001b[0m\n\u001b[1;32m     17\u001b[0m \u001b[38;5;28;01mif\u001b[39;00m \u001b[38;5;18m__name__\u001b[39m \u001b[38;5;241m==\u001b[39m \u001b[38;5;124m\"\u001b[39m\u001b[38;5;124m__main__\u001b[39m\u001b[38;5;124m\"\u001b[39m:\n\u001b[1;32m     18\u001b[0m     signal\u001b[38;5;241m.\u001b[39msignal(signal\u001b[38;5;241m.\u001b[39mSIGINT, signal_handler)\n\u001b[0;32m---> 19\u001b[0m     start_udp_server()\n",
      "Cell \u001b[0;32mIn[3], line 6\u001b[0m, in \u001b[0;36mstart_udp_server\u001b[0;34m()\u001b[0m\n\u001b[1;32m      4\u001b[0m \u001b[38;5;28;01mdef\u001b[39;00m \u001b[38;5;21mstart_udp_server\u001b[39m():\n\u001b[1;32m      5\u001b[0m     server_socket \u001b[38;5;241m=\u001b[39m socket\u001b[38;5;241m.\u001b[39msocket(socket\u001b[38;5;241m.\u001b[39mAF_INET, socket\u001b[38;5;241m.\u001b[39mSOCK_DGRAM)\n\u001b[0;32m----> 6\u001b[0m     server_socket\u001b[38;5;241m.\u001b[39mbind((\u001b[38;5;124m'\u001b[39m\u001b[38;5;124mlocalhost\u001b[39m\u001b[38;5;124m'\u001b[39m, \u001b[38;5;241m65434\u001b[39m))\n\u001b[1;32m      7\u001b[0m     \u001b[38;5;28mprint\u001b[39m(\u001b[38;5;124m\"\u001b[39m\u001b[38;5;124mUDP Server is listening on port 65433...\u001b[39m\u001b[38;5;124m\"\u001b[39m)\n\u001b[1;32m      8\u001b[0m     \u001b[38;5;28;01mwhile\u001b[39;00m running:\n",
      "\u001b[0;31mOSError\u001b[0m: [Errno 48] Address already in use"
     ]
    },
    {
     "ename": "",
     "evalue": "",
     "output_type": "error",
     "traceback": [
      "\u001b[1;31mThe Kernel crashed while executing code in the current cell or a previous cell. \n",
      "\u001b[1;31mPlease review the code in the cell(s) to identify a possible cause of the failure. \n",
      "\u001b[1;31mClick <a href='https://aka.ms/vscodeJupyterKernelCrash'>here</a> for more info. \n",
      "\u001b[1;31mView Jupyter <a href='command:jupyter.viewOutput'>log</a> for further details."
     ]
    }
   ],
   "source": [
    "import socket\n",
    "import signal\n",
    "running = True\n",
    "def start_udp_server():\n",
    "    server_socket = socket.socket(socket.AF_INET, socket.SOCK_DGRAM)\n",
    "    server_socket.bind(('localhost', 65433))\n",
    "    print(\"UDP Server is listening on port 65433...\")\n",
    "    while running:\n",
    "        data, addr = server_socket.recvfrom(1024)\n",
    "        print(f\"Received message from {addr}: {data.decode()}\")\n",
    "        server_socket.sendto(data, addr)\n",
    "    server_socket.close()\n",
    "def signal_handler(sig, frame):\n",
    "    global running\n",
    "    print('Shutting down the server...')\n",
    "    running = False\n",
    "if __name__ == \"__main__\":\n",
    "    signal.signal(signal.SIGINT, signal_handler)\n",
    "    start_udp_server()"
   ]
  }
 ],
 "metadata": {
  "kernelspec": {
   "display_name": "Python 3",
   "language": "python",
   "name": "python3"
  },
  "language_info": {
   "codemirror_mode": {
    "name": "ipython",
    "version": 3
   },
   "file_extension": ".py",
   "mimetype": "text/x-python",
   "name": "python",
   "nbconvert_exporter": "python",
   "pygments_lexer": "ipython3",
   "version": "3.11.9"
  }
 },
 "nbformat": 4,
 "nbformat_minor": 5
}
